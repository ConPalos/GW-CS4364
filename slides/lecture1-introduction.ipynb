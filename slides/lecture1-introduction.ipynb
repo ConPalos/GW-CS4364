{
 "cells": [
  {
   "cell_type": "markdown",
   "metadata": {
    "colab_type": "text",
    "id": "i_f5u2x9nn6I",
    "slideshow": {
     "slide_type": "slide"
    }
   },
   "source": [
    "<left><img width=25% src=\"img/gw_monogram_2c.png\"></left>\n",
    "\n",
    "# Lecture 1: Introduction to Machine Learning\n",
    "\n",
    "### CS6364/CS4364 Machine Learning\n",
    "\n",
    "__Sardar Hamidian__<br>The George Washington Universiry\n",
    "\n",
    "__Armin Mehrabian__<br>The George Washington Universiry"
   ]
  },
  {
   "cell_type": "markdown",
   "metadata": {
    "slideshow": {
     "slide_type": "slide"
    }
   },
   "source": [
    "# Welcome to Machine Learning!\n",
    "\n",
    "Machine learning is one of today's most exciting emerging technologies.\n",
    "\n",
    "In this course,\n",
    "* you will learn what machine learning is\n",
    "* what are the most important techniques in machine learning\n",
    "* how to apply them to solve problems in the real world"
   ]
  },
  {
   "cell_type": "markdown",
   "metadata": {
    "slideshow": {
     "slide_type": "slide"
    }
   },
   "source": [
    "# Welcome to Machine Learning!\n",
    "\n",
    "* __Meeting time:__ Fridays 3:45pm - 6:15pm \n",
    "* __Instructors:__ \tSardar Hamidian, Armin Mehrabian  \n",
    "* __E-mails:__ \tsardar@gwu.edu, armin@gwu.edu\n",
    "* __Office hours:__ Online By appointment\n",
    "\n",
    "<center><img src=\"img/snakes.jpg\"/></center>\n",
    "\n"
   ]
  },
  {
   "cell_type": "markdown",
   "metadata": {
    "slideshow": {
     "slide_type": "slide"
    }
   },
   "source": [
    "# About Us:\n",
    "\n",
    "- __Sardar Hamidian:__\n",
    "> - PhD in CS from GWU\n",
    "> - Lead Machine Learning Researcher at Comcast\n",
    "\n",
    "- __Armin Mehrabian:__\n",
    "> - PhD in CompE from GWU\n",
    "> - Principle Machine Learning Data Scientist at NASA Goddard Space Flight Center\n"
   ]
  },
  {
   "cell_type": "markdown",
   "metadata": {
    "slideshow": {
     "slide_type": "slide"
    }
   },
   "source": [
    "# About the class\n",
    "\n",
    "### Syllabus\n",
    "* Posted on Blackboard\n",
    "\n",
    "### Religious holidays\n",
    "* Tell us in advance when you will be off\n",
    "\n",
    "### Disability\n",
    "*  Please bring the written statement on how to accommodate your needs\n"
   ]
  },
  {
   "cell_type": "markdown",
   "metadata": {
    "slideshow": {
     "slide_type": "slide"
    }
   },
   "source": [
    "# Prerequisites: Is This Course For You?\n",
    "\n",
    "This course is aimed at a technical audience with no prior ML experience. The main requirements are:\n",
    "* Programming experience preferably in Python.\n",
    "* College-level linear algebra. Matrix operations, the SVD decomposition, etc.\n",
    "* College-level probability. Probability distributions, random variables, Bayes' rule, etc."
   ]
  },
  {
   "cell_type": "markdown",
   "metadata": {
    "slideshow": {
     "slide_type": "slide"
    }
   },
   "source": [
    "# About the class\n",
    "#### 12 Weekly quizzes in the beginning of the class (50% of final grade)\n",
    "* We consider the best 9 out of 12 toward your grade\n",
    "\n",
    "#### Homework assignments (20% of final grade)\n",
    "\n",
    "* 2 or more assignments\n",
    "\n",
    "####  Final Group Project (30% of final grade)\n",
    "* 2 presentations and reports, mid-semester and end-semester\n",
    "    \n",
    "    \n",
    "### Late submission policy:\n",
    "* You have __six late days__ with a __max of two__ per deliverable\n"
   ]
  },
  {
   "cell_type": "markdown",
   "metadata": {
    "slideshow": {
     "slide_type": "slide"
    }
   },
   "source": [
    "# Project\n",
    "\n",
    "Course projects will be done in groups of up to 3 students and can fall into one or more of the following categories:\n",
    "* Application of machine learning on a novel task/dataset\n",
    "* Algorithmic improvements into the representation, learning, or evaluation of\n",
    "machine learning models\n",
    "\n",
    "You are encouraged to choose your project, but we will make suggestions."
   ]
  },
  {
   "cell_type": "markdown",
   "metadata": {
    "slideshow": {
     "slide_type": "slide"
    }
   },
   "source": [
    "# Syllabus\n",
    "\n",
    "The course will have, roughly speaking, three parts.\n",
    "1. Basic ML\n",
    "  * Supervised and unsupervised learning\n",
    "  * Regression, classification, SVMs, K-means, PCA, etc.\n",
    "2. Advanced ML\n",
    "  * Kernel methods, boosted decision trees, deep learning\n",
    "3. How to apply machine learning\n",
    "  * Overfitting, error analyis, learning curves, etc."
   ]
  },
  {
   "cell_type": "markdown",
   "metadata": {
    "slideshow": {
     "slide_type": "slide"
    }
   },
   "source": [
    "# Software You Will Use\n",
    "\n",
    "You will use Python and popular machine learning libraries such as:\n",
    "  * `scikit-learn`. It implements most classical machine learning algorithms.\n",
    "  * `tensorflow`, `pytorch`. Standard libraries for modern deep learning.\n",
    "  * `numpy`, `pandas`. Linear algebra and data processing libraries used to implement algorithms from scratch."
   ]
  },
  {
   "cell_type": "markdown",
   "metadata": {
    "slideshow": {
     "slide_type": "slide"
    }
   },
   "source": [
    "# Part 1: What is Machine Learning?\n",
    "\n",
    "We hear a lot about machine learning (or ML for short) in the news.\n",
    "\n",
    "<table><tr>\n",
    "    <td><center><img width=50% src=\"img/alphafold2.png\"/></center></td>\n",
    "    <td><center><img width=100% src=\"img/alphago.jpeg\"/></center></td>\n",
    "    <td><center><img width=40% src=\"img/gpt4.png\"/></center></td>    \n",
    "</tr></table>    \n",
    "\n",
    "But what is it, really?"
   ]
  },
  {
   "cell_type": "markdown",
   "metadata": {
    "slideshow": {
     "slide_type": "subslide"
    }
   },
   "source": [
    "### “Learning is any process by which a system improves performance from experience.”\n",
    "\n",
    "### “Machine learning is concerned with computer programs which improve performance through experience.” - HS\n",
    "\n",
    "> Herbert Simon\n",
    "> Turing Award - 1975\n",
    "> Nobel Prize in Economics - 1978\n"
   ]
  },
  {
   "cell_type": "markdown",
   "metadata": {
    "slideshow": {
     "slide_type": "slide"
    }
   },
   "source": [
    "# ML in Everyday Life: Search Engines\n",
    "\n",
    "## You use machine learninng every day when use a search engine.\n",
    "\n",
    "<center><img src=\"img/google.png\"/></center>"
   ]
  },
  {
   "cell_type": "markdown",
   "metadata": {
    "slideshow": {
     "slide_type": "subslide"
    }
   },
   "source": [
    "# ML in Everyday Life: Search Engines\n",
    "\n",
    "## Knowledge Graphs and language models are revolutionalizing our search interactions.\n",
    "\n",
    "<center><img src=\"img/youcom.png\"/></center>"
   ]
  },
  {
   "cell_type": "markdown",
   "metadata": {
    "slideshow": {
     "slide_type": "slide"
    }
   },
   "source": [
    "# ML in Everyday Life: Personal Assistants\n",
    "\n",
    "Machine learning also powers various classes of personal assitance tools:\n",
    "**Voice assistants**: Products like Amazon's Alexa, Apple's Siri, and Google Assistant use machine learning to understand spoken language, respond to queries, and learn user preferences to provide better responses over time.\n",
    "<table><tr>\n",
    "    <td><center><img src=\"img/siri.png\"/></center></td>\n",
    "    <td><center><img src=\"img/google_assistant.png\"/></center></td>\n",
    "    <td><center><img width=40% src=\"img/gpt-opentable.png\"/></center></td>\n",
    "</tr></table>    \n"
   ]
  },
  {
   "cell_type": "markdown",
   "metadata": {
    "slideshow": {
     "slide_type": "subslide"
    }
   },
   "source": [
    "**Personalized recommendations**: Services like Netflix, Spotify, and Amazon use machine learning algorithms to analyze user behavior and provide personalized recommendations based on their history and preferences.\n",
    "<table><tr>\n",
    "    <td><center><img width=100% src=\"img/personal-recom.png\"/></center></td>\n",
    "</tr></table>    "
   ]
  },
  {
   "cell_type": "markdown",
   "metadata": {
    "slideshow": {
     "slide_type": "subslide"
    }
   },
   "source": [
    "**Smart homes**: Machine learning is used in smart home devices to learn user routines and preferences, allowing for automated control of lights, thermostats, and other home devices.\n",
    "\n",
    "<table><tr>\n",
    "    <td><center> Smart Cleaning Devices<img width=100% src=\"img/personal-device-cat.png\"/></center></td>\n",
    "    <td><center> Smart Security<img width=110% src=\"img/lecture01-personal-homesec.png\"/></center></td>\n",
    "\n",
    "</tr></table>    "
   ]
  },
  {
   "cell_type": "markdown",
   "metadata": {
    "slideshow": {
     "slide_type": "subslide"
    }
   },
   "source": [
    "**Personal finance management**: Apps like Mint and Personal Capital use machine learning to analyze spending patterns, track expenses, and provide financial advice. \n",
    "<table><tr>\n",
    "    <td><center><img src=\"img/lecture01-personal-finance-mint.png\"/></center></td>\n",
    "    <td><center><img width=50% src=\"img/lecture01-personal-finance-capital.png\"/></center></td>\n",
    "\n",
    "</tr></table>    "
   ]
  },
  {
   "cell_type": "markdown",
   "metadata": {
    "slideshow": {
     "slide_type": "subslide"
    }
   },
   "source": [
    "**Self-driving cars**: While not a \"personal assistant\" in the traditional sense, autonomous vehicles use \n",
    "machine learning to navigate and adapt to changing road conditions, essentially assisting the driver with transportation tasks.\n",
    "<table><tr>\n",
    "    <td><center><img src=\"img/lecture01-self-driving-mercedes.jpg\"/></center></td>\n",
    "        <td><center><img src=\"img/lecture01-self-driving-zoox.jpeg\"/></center></td>\n",
    "\n",
    "</tr></table>    "
   ]
  },
  {
   "cell_type": "markdown",
   "metadata": {
    "slideshow": {
     "slide_type": "subslide"
    }
   },
   "source": [
    "# ML in Everyday Life: Spam/Fraud Detection\n",
    "\n",
    "Machine learning is used in every spam filter, such as in Gmail.\n",
    "<br>\n",
    "<center><img src=\"img/spam.png\"/></center>"
   ]
  },
  {
   "cell_type": "markdown",
   "metadata": {
    "slideshow": {
     "slide_type": "slide"
    }
   },
   "source": [
    "# An Example: Self Driving Cars\n",
    "\n",
    "A self-driving car system uses dozens of components that include detection of cars, pedestrians, and other objects.\n",
    "<br>\n",
    "<center><img width=80% src=\"img/tesla.jpg\"/></center>"
   ]
  },
  {
   "cell_type": "markdown",
   "metadata": {
    "slideshow": {
     "slide_type": "subslide"
    }
   },
   "source": [
    "# Self Driving Cars: A Rule-Based Algorithm\n",
    "\n",
    "One way to build a detection system is to write down rules.\n",
    "<left><img width=50% src=\"img/tesla_zoom.jpg\"/></left>\n",
    "\n",
    "<!-- <table style=\"border: 1px\"><tr>\n",
    "    <td><left>One way to build a detection system is to write down rules.</left></td>\n",
    "    <td><img src=\"img/tesla_zoom.jpg\"/></td>\n",
    "</tr></table> -->"
   ]
  },
  {
   "cell_type": "code",
   "execution_count": 1,
   "metadata": {
    "slideshow": {
     "slide_type": "subslide"
    }
   },
   "outputs": [],
   "source": [
    "# pseudocode example for a rule-based classification system\n",
    "def detect_object():\n",
    "    object = camera.get_object() # Alright, camera, what do you see?\n",
    "    if object.has_wheels(): # Does the object have wheels, or is it just happy to see me?\n",
    "        if len(object.wheels) == 4: \n",
    "            return \"Car\" # Four wheels? Must be a car. Or a very confused office chair.\n",
    "        elif len(object.wheels) == 2:\n",
    "            if object.seen_from_back():\n",
    "                return \"Car\" # If it's seen from the back and has 2 wheels... it's a car doing a wheelie! \n",
    "            else:\n",
    "                return \"Bicycle\" # Normally, 2 wheels mean it's a bicycle. Or a unicycle with aspirations.\n",
    "    return \"Unknown\" # No wheels? No clue. Could be a hovercraft, or maybe just a really big potato.\n"
   ]
  },
  {
   "cell_type": "markdown",
   "metadata": {
    "slideshow": {
     "slide_type": "fragment"
    }
   },
   "source": [
    "In practice, it's almost impossible for a human to specify all the edge cases."
   ]
  },
  {
   "cell_type": "markdown",
   "metadata": {
    "slideshow": {
     "slide_type": "slide"
    }
   },
   "source": [
    "# Self Driving Cars: An ML Approach\n",
    "\n",
    "The machine learning approach is to teach a computer how to do detection by showing it many examples of different objects.\n",
    "\n",
    "<center><img src=\"img/tesla_data.png\"/></center>\n",
    "\n",
    "No manual programming is needed: the computer learns what defines a pedestrian or a car on its own!"
   ]
  },
  {
   "cell_type": "markdown",
   "metadata": {
    "slideshow": {
     "slide_type": "slide"
    }
   },
   "source": [
    "# Revisiting Our Definition of ML\n",
    "\n",
    "> Machine learning is concerned with computer programs which improve performance through experience\n",
    "\n",
    "This principle can be applied to countless domains:\n",
    "medical diagnosis, factory automation, machine translation, and many more!"
   ]
  },
  {
   "cell_type": "markdown",
   "metadata": {
    "slideshow": {
     "slide_type": "slide"
    }
   },
   "source": [
    "# Why Machine Learning?\n",
    "\n",
    "Why is this approach to building software interesting?"
   ]
  },
  {
   "cell_type": "markdown",
   "metadata": {
    "slideshow": {
     "slide_type": "fragment"
    }
   },
   "source": [
    "* It lets us build practical systems for real-world applications for which other engineering approaches don't work."
   ]
  },
  {
   "cell_type": "markdown",
   "metadata": {
    "slideshow": {
     "slide_type": "fragment"
    }
   },
   "source": [
    "* Learning is widely regarded as a key approach towards building general-purpose artificial intelligence systems."
   ]
  },
  {
   "cell_type": "markdown",
   "metadata": {
    "slideshow": {
     "slide_type": "fragment"
    }
   },
   "source": [
    "* The science and engineering of machine learning offers insights into human intelligence."
   ]
  },
  {
   "cell_type": "markdown",
   "metadata": {
    "slideshow": {
     "slide_type": "slide"
    }
   },
   "source": [
    "<left><img width=25% src=\"img/gw_monogram_2c.png\"></center>\n",
    "# Part 2: Three Approaches to Machine Learning\n",
    "\n",
    "Machine learning is broadly defined as the science of building software that has the ability to learn without being explicitly programmed."
   ]
  },
  {
   "cell_type": "markdown",
   "metadata": {
    "slideshow": {
     "slide_type": "slide"
    }
   },
   "source": [
    "# Three Approaches to Machine Learning\n",
    "\n",
    "1. Supervised Learning\n",
    "2. Unsupervised Learning\n",
    "3. Reinforcement Learning"
   ]
  },
  {
   "cell_type": "markdown",
   "metadata": {
    "slideshow": {
     "slide_type": "slide"
    }
   },
   "source": [
    "# 1. Supervised Learning\n",
    "\n",
    "Traditionally the most common approach to machine learning is supervised learning.\n",
    "\n",
    "<center><img width=70% src=\"img/tesla_data.png\"/></center>\n"
   ]
  },
  {
   "cell_type": "markdown",
   "metadata": {
    "slideshow": {
     "slide_type": "fragment"
    }
   },
   "source": [
    "1. First, we collect a dataset of labeled training examples."
   ]
  },
  {
   "cell_type": "markdown",
   "metadata": {
    "slideshow": {
     "slide_type": "fragment"
    }
   },
   "source": [
    "2. We train a model to output accurate predictions on this dataset."
   ]
  },
  {
   "cell_type": "markdown",
   "metadata": {
    "slideshow": {
     "slide_type": "fragment"
    }
   },
   "source": [
    "3. When the model sees new, similar data, it will also be accurate."
   ]
  },
  {
   "cell_type": "markdown",
   "metadata": {
    "slideshow": {
     "slide_type": "slide"
    }
   },
   "source": [
    "# Example Applications of Supervised Learning\n",
    "\n",
    "Many of the most important applications of machine learning are supervised:\n",
    "* Classifying medical images.\n",
    "* Translating between pairs of languages.\n",
    "* Detecting objects in a self-driving car.\n",
    "\n",
    "What other applications come to mind?\n"
   ]
  },
  {
   "cell_type": "markdown",
   "metadata": {
    "slideshow": {
     "slide_type": "slide"
    }
   },
   "source": [
    "# A Supervised Learning Algorithm\n",
    "\n",
    "We can use this dataset of examples to fit a supervised learning model.\n",
    "\n",
    "* The model maps input $x$ (i.e. the education level) to output a $y$ (i.e. the house price).\n",
    "* It learns the mapping from our dataset of examples $(x, y)$."
   ]
  },
  {
   "cell_type": "markdown",
   "metadata": {
    "slideshow": {
     "slide_type": "slide"
    }
   },
   "source": [
    "# A Supervised Learning Dataset (Regression)\n",
    "\n",
    "Consider a simple dataset for supervised learning: Adult income prediction\n"
   ]
  },
  {
   "cell_type": "code",
   "execution_count": 2,
   "metadata": {
    "slideshow": {
     "slide_type": "slide"
    }
   },
   "outputs": [
    {
     "name": "stderr",
     "output_type": "stream",
     "text": [
      "/Users/arminmehrabian/miniconda3/envs/gw-cs6364/lib/python3.10/site-packages/scipy/__init__.py:146: UserWarning: A NumPy version >=1.16.5 and <1.23.0 is required for this version of SciPy (detected version 1.24.3\n",
      "  warnings.warn(f\"A NumPy version >={np_minversion} and <{np_maxversion}\"\n"
     ]
    },
    {
     "name": "stdout",
     "output_type": "stream",
     "text": [
      "<class 'pandas.core.frame.DataFrame'>\n",
      "RangeIndex: 17379 entries, 0 to 17378\n",
      "Data columns (total 17 columns):\n",
      " #   Column      Non-Null Count  Dtype  \n",
      "---  ------      --------------  -----  \n",
      " 0   instant     17379 non-null  int64  \n",
      " 1   dteday      17379 non-null  object \n",
      " 2   season      17379 non-null  int64  \n",
      " 3   yr          17379 non-null  int64  \n",
      " 4   mnth        17379 non-null  int64  \n",
      " 5   hr          17379 non-null  int64  \n",
      " 6   holiday     17379 non-null  int64  \n",
      " 7   weekday     17379 non-null  int64  \n",
      " 8   workingday  17379 non-null  int64  \n",
      " 9   weathersit  17379 non-null  int64  \n",
      " 10  temp        17379 non-null  float64\n",
      " 11  atemp       17379 non-null  float64\n",
      " 12  hum         17379 non-null  float64\n",
      " 13  windspeed   17379 non-null  float64\n",
      " 14  casual      17379 non-null  int64  \n",
      " 15  registered  17379 non-null  int64  \n",
      " 16  cnt         17379 non-null  int64  \n",
      "dtypes: float64(4), int64(12), object(1)\n",
      "memory usage: 2.3+ MB\n",
      "Total missing values count: instant       0\n",
      "dteday        0\n",
      "season        0\n",
      "yr            0\n",
      "mnth          0\n",
      "hr            0\n",
      "holiday       0\n",
      "weekday       0\n",
      "workingday    0\n",
      "weathersit    0\n",
      "temp          0\n",
      "atemp         0\n",
      "hum           0\n",
      "windspeed     0\n",
      "casual        0\n",
      "registered    0\n",
      "cnt           0\n",
      "dtype: int64\n"
     ]
    },
    {
     "data": {
      "image/png": "[encoded data removed]",
      "text/plain": [
       "<Figure size 640x480 with 1 Axes>"
      ]
     },
     "metadata": {},
     "output_type": "display_data"
    },
    {
     "ename": "ValueError",
     "evalue": "could not convert string to float: '2011-01-01'",
     "output_type": "error",
     "traceback": [
      "\u001b[0;31m---------------------------------------------------------------------------\u001b[0m",
      "\u001b[0;31mValueError\u001b[0m                                Traceback (most recent call last)",
      "Cell \u001b[0;32mIn[2], line 39\u001b[0m\n\u001b[1;32m     36\u001b[0m plt\u001b[38;5;241m.\u001b[39mshow()\n\u001b[1;32m     38\u001b[0m \u001b[38;5;66;03m# Correlation matrix to understand relationships between features\u001b[39;00m\n\u001b[0;32m---> 39\u001b[0m correlation_matrix \u001b[38;5;241m=\u001b[39m \u001b[43mdata\u001b[49m\u001b[38;5;241;43m.\u001b[39;49m\u001b[43mcorr\u001b[49m\u001b[43m(\u001b[49m\u001b[43m)\u001b[49m\n\u001b[1;32m     40\u001b[0m sns\u001b[38;5;241m.\u001b[39mheatmap(correlation_matrix, annot\u001b[38;5;241m=\u001b[39m\u001b[38;5;28;01mFalse\u001b[39;00m, cmap\u001b[38;5;241m=\u001b[39m\u001b[38;5;124m'\u001b[39m\u001b[38;5;124mcoolwarm\u001b[39m\u001b[38;5;124m'\u001b[39m)\n\u001b[1;32m     41\u001b[0m plt\u001b[38;5;241m.\u001b[39mtitle(\u001b[38;5;124m\"\u001b[39m\u001b[38;5;124mCorrelation Matrix\u001b[39m\u001b[38;5;124m\"\u001b[39m)\n",
      "File \u001b[0;32m~/miniconda3/envs/gw-cs6364/lib/python3.10/site-packages/pandas/core/frame.py:10054\u001b[0m, in \u001b[0;36mDataFrame.corr\u001b[0;34m(self, method, min_periods, numeric_only)\u001b[0m\n\u001b[1;32m  10052\u001b[0m cols \u001b[38;5;241m=\u001b[39m data\u001b[38;5;241m.\u001b[39mcolumns\n\u001b[1;32m  10053\u001b[0m idx \u001b[38;5;241m=\u001b[39m cols\u001b[38;5;241m.\u001b[39mcopy()\n\u001b[0;32m> 10054\u001b[0m mat \u001b[38;5;241m=\u001b[39m \u001b[43mdata\u001b[49m\u001b[38;5;241;43m.\u001b[39;49m\u001b[43mto_numpy\u001b[49m\u001b[43m(\u001b[49m\u001b[43mdtype\u001b[49m\u001b[38;5;241;43m=\u001b[39;49m\u001b[38;5;28;43mfloat\u001b[39;49m\u001b[43m,\u001b[49m\u001b[43m \u001b[49m\u001b[43mna_value\u001b[49m\u001b[38;5;241;43m=\u001b[39;49m\u001b[43mnp\u001b[49m\u001b[38;5;241;43m.\u001b[39;49m\u001b[43mnan\u001b[49m\u001b[43m,\u001b[49m\u001b[43m \u001b[49m\u001b[43mcopy\u001b[49m\u001b[38;5;241;43m=\u001b[39;49m\u001b[38;5;28;43;01mFalse\u001b[39;49;00m\u001b[43m)\u001b[49m\n\u001b[1;32m  10056\u001b[0m \u001b[38;5;28;01mif\u001b[39;00m method \u001b[38;5;241m==\u001b[39m \u001b[38;5;124m\"\u001b[39m\u001b[38;5;124mpearson\u001b[39m\u001b[38;5;124m\"\u001b[39m:\n\u001b[1;32m  10057\u001b[0m     correl \u001b[38;5;241m=\u001b[39m libalgos\u001b[38;5;241m.\u001b[39mnancorr(mat, minp\u001b[38;5;241m=\u001b[39mmin_periods)\n",
      "File \u001b[0;32m~/miniconda3/envs/gw-cs6364/lib/python3.10/site-packages/pandas/core/frame.py:1838\u001b[0m, in \u001b[0;36mDataFrame.to_numpy\u001b[0;34m(self, dtype, copy, na_value)\u001b[0m\n\u001b[1;32m   1836\u001b[0m \u001b[38;5;28;01mif\u001b[39;00m dtype \u001b[38;5;129;01mis\u001b[39;00m \u001b[38;5;129;01mnot\u001b[39;00m \u001b[38;5;28;01mNone\u001b[39;00m:\n\u001b[1;32m   1837\u001b[0m     dtype \u001b[38;5;241m=\u001b[39m np\u001b[38;5;241m.\u001b[39mdtype(dtype)\n\u001b[0;32m-> 1838\u001b[0m result \u001b[38;5;241m=\u001b[39m \u001b[38;5;28;43mself\u001b[39;49m\u001b[38;5;241;43m.\u001b[39;49m\u001b[43m_mgr\u001b[49m\u001b[38;5;241;43m.\u001b[39;49m\u001b[43mas_array\u001b[49m\u001b[43m(\u001b[49m\u001b[43mdtype\u001b[49m\u001b[38;5;241;43m=\u001b[39;49m\u001b[43mdtype\u001b[49m\u001b[43m,\u001b[49m\u001b[43m \u001b[49m\u001b[43mcopy\u001b[49m\u001b[38;5;241;43m=\u001b[39;49m\u001b[43mcopy\u001b[49m\u001b[43m,\u001b[49m\u001b[43m \u001b[49m\u001b[43mna_value\u001b[49m\u001b[38;5;241;43m=\u001b[39;49m\u001b[43mna_value\u001b[49m\u001b[43m)\u001b[49m\n\u001b[1;32m   1839\u001b[0m \u001b[38;5;28;01mif\u001b[39;00m result\u001b[38;5;241m.\u001b[39mdtype \u001b[38;5;129;01mis\u001b[39;00m \u001b[38;5;129;01mnot\u001b[39;00m dtype:\n\u001b[1;32m   1840\u001b[0m     result \u001b[38;5;241m=\u001b[39m np\u001b[38;5;241m.\u001b[39marray(result, dtype\u001b[38;5;241m=\u001b[39mdtype, copy\u001b[38;5;241m=\u001b[39m\u001b[38;5;28;01mFalse\u001b[39;00m)\n",
      "File \u001b[0;32m~/miniconda3/envs/gw-cs6364/lib/python3.10/site-packages/pandas/core/internals/managers.py:1732\u001b[0m, in \u001b[0;36mBlockManager.as_array\u001b[0;34m(self, dtype, copy, na_value)\u001b[0m\n\u001b[1;32m   1730\u001b[0m         arr\u001b[38;5;241m.\u001b[39mflags\u001b[38;5;241m.\u001b[39mwriteable \u001b[38;5;241m=\u001b[39m \u001b[38;5;28;01mFalse\u001b[39;00m\n\u001b[1;32m   1731\u001b[0m \u001b[38;5;28;01melse\u001b[39;00m:\n\u001b[0;32m-> 1732\u001b[0m     arr \u001b[38;5;241m=\u001b[39m \u001b[38;5;28;43mself\u001b[39;49m\u001b[38;5;241;43m.\u001b[39;49m\u001b[43m_interleave\u001b[49m\u001b[43m(\u001b[49m\u001b[43mdtype\u001b[49m\u001b[38;5;241;43m=\u001b[39;49m\u001b[43mdtype\u001b[49m\u001b[43m,\u001b[49m\u001b[43m \u001b[49m\u001b[43mna_value\u001b[49m\u001b[38;5;241;43m=\u001b[39;49m\u001b[43mna_value\u001b[49m\u001b[43m)\u001b[49m\n\u001b[1;32m   1733\u001b[0m     \u001b[38;5;66;03m# The underlying data was copied within _interleave, so no need\u001b[39;00m\n\u001b[1;32m   1734\u001b[0m     \u001b[38;5;66;03m# to further copy if copy=True or setting na_value\u001b[39;00m\n\u001b[1;32m   1736\u001b[0m \u001b[38;5;28;01mif\u001b[39;00m na_value \u001b[38;5;129;01mis\u001b[39;00m \u001b[38;5;129;01mnot\u001b[39;00m lib\u001b[38;5;241m.\u001b[39mno_default:\n",
      "File \u001b[0;32m~/miniconda3/envs/gw-cs6364/lib/python3.10/site-packages/pandas/core/internals/managers.py:1794\u001b[0m, in \u001b[0;36mBlockManager._interleave\u001b[0;34m(self, dtype, na_value)\u001b[0m\n\u001b[1;32m   1792\u001b[0m     \u001b[38;5;28;01melse\u001b[39;00m:\n\u001b[1;32m   1793\u001b[0m         arr \u001b[38;5;241m=\u001b[39m blk\u001b[38;5;241m.\u001b[39mget_values(dtype)\n\u001b[0;32m-> 1794\u001b[0m     result[rl\u001b[38;5;241m.\u001b[39mindexer] \u001b[38;5;241m=\u001b[39m arr\n\u001b[1;32m   1795\u001b[0m     itemmask[rl\u001b[38;5;241m.\u001b[39mindexer] \u001b[38;5;241m=\u001b[39m \u001b[38;5;241m1\u001b[39m\n\u001b[1;32m   1797\u001b[0m \u001b[38;5;28;01mif\u001b[39;00m \u001b[38;5;129;01mnot\u001b[39;00m itemmask\u001b[38;5;241m.\u001b[39mall():\n",
      "\u001b[0;31mValueError\u001b[0m: could not convert string to float: '2011-01-01'"
     ]
    }
   ],
   "source": [
    "import pandas as pd\n",
    "import matplotlib.pyplot as plt\n",
    "import seaborn as sns\n",
    "from io import BytesIO\n",
    "import requests\n",
    "import zipfile\n",
    "import numpy as np\n",
    "\n",
    "# Fetch the dataset\n",
    "url = \"https://archive.ics.uci.edu/ml/machine-learning-databases/00275/Bike-Sharing-Dataset.zip\"\n",
    "response = requests.get(url)\n",
    "with zipfile.ZipFile(BytesIO(response.content)) as z:\n",
    "    with z.open('hour.csv') as f:\n",
    "        data = pd.read_csv(f)\n",
    "\n",
    "# Display first 5 rows of the dataset\n",
    "data.head()\n",
    "\n",
    "# Basic information about the dataset\n",
    "data.info()\n",
    "\n",
    "# Summary statistics\n",
    "data.describe()\n",
    "\n",
    "# Check for missing values\n",
    "print(f'Total missing values count: {data.isnull().sum()}')\n",
    "\n",
    "# Visual exploratory analysis using seaborn\n",
    "# Using 'cnt' as the total bike rentals (including both casual and registered)\n",
    "\n",
    "# Distribution of bike rentals\n",
    "sns.histplot(data['cnt'], kde=True)\n",
    "plt.title(\"Distribution of Bike Rentals\")\n",
    "plt.xlabel(\"Number of bikes rented\")\n",
    "plt.ylabel(\"Frequency\")\n",
    "plt.show()\n",
    "\n",
    "# Correlation matrix to understand relationships between features\n",
    "correlation_matrix = data.corr()\n",
    "sns.heatmap(correlation_matrix, annot=False, cmap='coolwarm')\n",
    "plt.title(\"Correlation Matrix\")\n",
    "plt.show()\n",
    "\n",
    "# Features and Label report\n",
    "features = data.drop(\"cnt\", axis=1).columns.tolist()  # Assuming 'cnt' is the label\n",
    "label = [\"cnt\"]\n",
    "\n",
    "print(f\"Features: {features}\")\n",
    "print(f\"Label: {label}\")\n"
   ]
  },
  {
   "cell_type": "code",
   "execution_count": null,
   "metadata": {
    "slideshow": {
     "slide_type": "slide"
    }
   },
   "outputs": [],
   "source": [
    "from sklearn.model_selection import train_test_split\n",
    "from sklearn.linear_model import LinearRegression\n",
    "from sklearn.metrics import mean_squared_error, r2_score\n",
    "\n",
    "import plotly.express as px\n",
    "\n",
    "\n",
    "\n",
    "# Randomly select a feature (exclude the target 'cnt' and non-numeric features for simplicity)\n",
    "features = data.select_dtypes(include=[np.number]).drop([\"cnt\", \"instant\"], axis=1).columns.tolist()\n",
    "\n",
    "# Features:\n",
    "# ['season', 'yr', 'mnth', 'hr', 'holiday', 'weekday', 'workingday', 'weathersit', 'temp', 'atemp', 'hum', 'windspeed', 'casual', 'registered']\n",
    "\n",
    "selected_feature = 'temp'\n",
    "\n",
    "# Split the data into train and test sets\n",
    "X = data[[selected_feature]]\n",
    "y = data[\"cnt\"]\n",
    "X_train, X_test, y_train, y_test = train_test_split(X, y, test_size=0.2, random_state=42)\n",
    "\n",
    "# Train a linear regression model\n",
    "lr = LinearRegression()\n",
    "lr.fit(X_train, y_train)\n",
    "\n",
    "# Predict on the train and test set\n",
    "y_train_pred = lr.predict(X_train)\n",
    "y_test_pred = lr.predict(X_test)\n",
    "\n",
    "# Evaluate the performance on the train set\n",
    "mse_train = mean_squared_error(y_train, y_train_pred)\n",
    "r2_train = r2_score(y_train, y_train_pred)\n",
    "\n",
    "# Evaluate the performance on the test set\n",
    "mse_test = mean_squared_error(y_test, y_test_pred)\n",
    "r2_test = r2_score(y_test, y_test_pred)\n",
    "\n",
    "# Display performance report for training data\n",
    "print(f\"Training Data - Feature used: {selected_feature}\")\n",
    "print(f\"Mean Squared Error (Train): {mse_train:.2f}\")\n",
    "print(f\"R2 Score (Train): {r2_train:.2f}\\n\")\n",
    "\n",
    "# Display performance report for test data\n",
    "print(f\"Test Data - Feature used: {selected_feature}\")\n",
    "print(f\"Mean Squared Error (Test): {mse_test:.2f}\")\n",
    "print(f\"R2 Score (Test): {r2_test:.2f}\")\n",
    "\n",
    "# Plot the training data in 3D space\n",
    "fig_train = px.scatter(x=X_train[selected_feature], y=y_train, \n",
    "                       title=\"Training Data\",\n",
    "                       labels={\"x\": selected_feature, \"y\": \"Actual Rentals\"},\n",
    "                       color=y_train_pred, color_continuous_scale=\"temps\",\n",
    "                       range_color=[min(y_train_pred), max(y_train_pred)])\n",
    "\n",
    "fig_train.show()\n",
    "\n",
    "# Plot the test data\n",
    "fig_test = px.scatter(x=X_test[selected_feature], y=y_test, \n",
    "                      title=\"Test Data\",\n",
    "                      labels={\"x\": selected_feature, \"y\": \"Actual Rentals\"},\n",
    "                      color=y_test_pred, color_continuous_scale=\"temps\",\n",
    "                      range_color=[min(y_test_pred), max(y_test_pred)])\n",
    "\n",
    "fig_test.show()"
   ]
  },
  {
   "cell_type": "markdown",
   "metadata": {},
   "source": [
    "# Now let's use more features!!"
   ]
  },
  {
   "cell_type": "code",
   "execution_count": null,
   "metadata": {},
   "outputs": [],
   "source": [
    "\n",
    "# Manually selected features\n",
    "selected_features = ['temp', 'hum']\n",
    "\n",
    "# Split the data into train and test sets\n",
    "X = data[selected_features]\n",
    "y = data[\"cnt\"]\n",
    "X_train, X_test, y_train, y_test = train_test_split(X, y, test_size=0.2, random_state=42)\n",
    "\n",
    "# Train a linear regression model\n",
    "lr = LinearRegression()\n",
    "lr.fit(X_train, y_train)\n",
    "\n",
    "# Predict on the train and test set\n",
    "y_train_pred = lr.predict(X_train)\n",
    "y_test_pred = lr.predict(X_test)\n",
    "\n",
    "# Evaluate the performance on the train set\n",
    "mse_train = mean_squared_error(y_train, y_train_pred)\n",
    "r2_train = r2_score(y_train, y_train_pred)\n",
    "\n",
    "# Evaluate the performance on the test set\n",
    "mse_test = mean_squared_error(y_test, y_test_pred)\n",
    "r2_test = r2_score(y_test, y_test_pred)\n",
    "\n",
    "# Display performance report for training data\n",
    "print(f\"Training Data - Feature used: {selected_feature}\")\n",
    "print(f\"Mean Squared Error (Train): {mse_train:.2f}\")\n",
    "print(f\"R2 Score (Train): {r2_train:.2f}\\n\")\n",
    "\n",
    "# Display performance report for test data\n",
    "print(f\"Test Data - Feature used: {selected_feature}\")\n",
    "print(f\"Mean Squared Error (Test): {mse_test:.2f}\")\n",
    "print(f\"R2 Score (Test): {r2_test:.2f}\")\n",
    "\n",
    "\n",
    "# Plot the training data in 3D space\n",
    "fig_train = px.scatter_3d(x=X_train[selected_features[0]], y=X_train[selected_features[1]], z=y_train, \n",
    "                          title=\"Training Data\",\n",
    "                          labels={\"x\": selected_features[0], \"y\": selected_features[1], \"z\": \"Actual Rentals\"},\n",
    "                          color=y_train_pred, color_continuous_scale=\"temps\",\n",
    "                          range_color=[min(y_train_pred), max(y_train_pred)])\n",
    "\n",
    "fig_train.show()\n",
    "\n",
    "# Plot the test data in 3D space\n",
    "fig_test = px.scatter_3d(x=X_test[selected_features[0]], y=X_test[selected_features[1]], z=y_test, \n",
    "                         title=\"Test Data\",\n",
    "                         labels={\"x\": selected_features[0], \"y\": selected_features[1], \"z\": \"Actual Rentals\"},\n",
    "                         color=y_test_pred, color_continuous_scale=\"temps\",\n",
    "                         range_color=[min(y_test_pred), max(y_test_pred)])\n",
    "\n",
    "fig_test.show()\n",
    "\n"
   ]
  },
  {
   "cell_type": "markdown",
   "metadata": {
    "slideshow": {
     "slide_type": "slide"
    }
   },
   "source": [
    "# Now let's use a more complex regression. Instead of Linear regression use Poly of degree 2"
   ]
  },
  {
   "cell_type": "code",
   "execution_count": null,
   "metadata": {
    "slideshow": {
     "slide_type": "slide"
    }
   },
   "outputs": [],
   "source": [
    "from sklearn.preprocessing import PolynomialFeatures\n",
    "\n",
    "\n",
    "# Create a quadratic feature transformer\n",
    "poly = PolynomialFeatures(degree=2)\n",
    "\n",
    "# Transform the original features to quadratic features\n",
    "X_train_poly = poly.fit_transform(X_train)\n",
    "X_test_poly = poly.transform(X_test)\n",
    "\n",
    "# Train a linear regression model using the quadratic features\n",
    "lr = LinearRegression()\n",
    "lr.fit(X_train_poly, y_train)\n",
    "\n",
    "# Predict on the train and test set using the quadratic features\n",
    "y_train_pred = lr.predict(X_train_poly)\n",
    "y_test_pred = lr.predict(X_test_poly)\n",
    "\n",
    "# Plotting and performance reporting remains the same, as in previous code snippets\n",
    "\n",
    "# Evaluate the performance on the train set\n",
    "mse_train = mean_squared_error(y_train, y_train_pred)\n",
    "r2_train = r2_score(y_train, y_train_pred)\n",
    "\n",
    "# Evaluate the performance on the test set\n",
    "mse_test = mean_squared_error(y_test, y_test_pred)\n",
    "r2_test = r2_score(y_test, y_test_pred)\n",
    "\n",
    "# Display performance report for training data\n",
    "print(f\"Training Data - Feature used: {selected_feature}\")\n",
    "print(f\"Mean Squared Error (Train): {mse_train:.2f}\")\n",
    "print(f\"R2 Score (Train): {r2_train:.2f}\\n\")\n",
    "\n",
    "# Display performance report for test data\n",
    "print(f\"Test Data - Feature used: {selected_feature}\")\n",
    "print(f\"Mean Squared Error (Test): {mse_test:.2f}\")\n",
    "print(f\"R2 Score (Test): {r2_test:.2f}\")\n",
    "\n",
    "\n",
    "# Plot the training data and predictions in 3D space\n",
    "fig_train = px.scatter_3d(x=X_train[selected_features[0]], y=X_train[selected_features[1]], z=y_train, \n",
    "                          title=\"Training Data\",\n",
    "                          labels={\"x\": selected_features[0], \"y\": selected_features[1], \"z\": \"Actual Rentals\"},\n",
    "                          color=y_train_pred, color_continuous_scale=\"temps\",\n",
    "                          range_color=[min(y_train_pred), max(y_train_pred)])\n",
    "\n",
    "fig_train.show()\n",
    "\n",
    "# Plot the test data in 3D space\n",
    "fig_test = px.scatter_3d(x=X_test[selected_features[0]], y=X_test[selected_features[1]], z=y_test, \n",
    "                         title=\"Test Data\",\n",
    "                         labels={\"x\": selected_features[0], \"y\": selected_features[1], \"z\": \"Actual Rentals\"},\n",
    "                         color=y_test_pred, color_continuous_scale=\"temps\",\n",
    "                         range_color=[min(y_test_pred), max(y_test_pred)])\n",
    "\n",
    "fig_test.show()\n",
    "\n",
    "\n"
   ]
  },
  {
   "cell_type": "markdown",
   "metadata": {
    "slideshow": {
     "slide_type": "slide"
    }
   },
   "source": [
    "# 2. Unsupervised Learning\n",
    "\n",
    "Here, we have a dataset *without* labels. Our goal is to learn something interesting about the structure of the data:\n",
    "* Clusters hidden in the dataset.\n",
    "* Outliers: particularly unusual and/or interesting datapoints.\n",
    "* Useful signal hidden in noise, e.g. human speech over a noisy phone."
   ]
  },
  {
   "cell_type": "markdown",
   "metadata": {
    "slideshow": {
     "slide_type": "slide"
    }
   },
   "source": [
    "# An Unsupervised Learning Dataset\n",
    "\n",
    "Here is a simple example of an unsupervised learning dataset: Iris flowers."
   ]
  },
  {
   "cell_type": "code",
   "execution_count": null,
   "metadata": {
    "slideshow": {
     "slide_type": "slide"
    }
   },
   "outputs": [],
   "source": [
    "# Load and visualize the Iris flower dataset\n",
    "from sklearn import datasets\n",
    "\n",
    "iris = datasets.load_iris()\n",
    "\n",
    "plt.scatter(iris.data[:,0], iris.data[:,1], alpha=0.5)\n",
    "plt.ylabel(\"Sepal width (cm)\")\n",
    "plt.xlabel(\"Sepal length (cm)\")\n",
    "plt.title(\"Dataset of Iris flowers\")"
   ]
  },
  {
   "cell_type": "markdown",
   "metadata": {
    "slideshow": {
     "slide_type": "slide"
    }
   },
   "source": [
    "# An Unsupervised Learning Algorithm\n",
    "\n",
    "We can use this dataset of examples to fit an unsupervised learning model.\n",
    "* The model has been told that there are three clusters in the data.\n",
    "* Its goal is to find these clusters (e.g., find their centers)\n",
    "* The components will reveal interesting insights about the data."
   ]
  },
  {
   "cell_type": "code",
   "execution_count": null,
   "metadata": {
    "slideshow": {
     "slide_type": "subslide"
    }
   },
   "outputs": [],
   "source": [
    "# fit a Gaussian Mixture Model with three components\n",
    "from sklearn import mixture\n",
    "model = mixture.GaussianMixture(n_components=3, covariance_type='full')\n",
    "model.fit(iris.data[:,[0,1]])"
   ]
  },
  {
   "cell_type": "code",
   "execution_count": null,
   "metadata": {
    "slideshow": {
     "slide_type": "subslide"
    }
   },
   "outputs": [],
   "source": [
    "# display learned probabilities as a contour plot\n",
    "x, y = np.linspace(4.0, 8.0), np.linspace(2.0, 4.5)\n",
    "X, Y = np.meshgrid(x, y)\n",
    "Z = -model.score_samples(np.array([X.ravel(), Y.ravel()]).T).reshape(X.shape)\n",
    "plt.contour(X, Y, Z, levels=np.logspace(0, 10, 1), cmap=\"gray\", alpha=0.5)\n",
    "plt.scatter(iris.data[:,0], iris.data[:,1], alpha=0.5)\n",
    "plt.scatter(model.means_[:,0], model.means_[:,1], marker='D', c='r')\n",
    "plt.ylabel(\"Sepal width (cm)\")\n",
    "plt.xlabel(\"Sepal length (cm)\")\n",
    "plt.title(\"Dataset of Iris flowers\")\n",
    "plt.legend(['Datapoints', 'Cluster centers'])"
   ]
  },
  {
   "cell_type": "code",
   "execution_count": null,
   "metadata": {
    "slideshow": {
     "slide_type": "subslide"
    }
   },
   "outputs": [],
   "source": [
    "CS = plt.contour(X, Y, Z, levels=np.logspace(0, 30, 1), cmap='gray', alpha=0.5)\n",
    "p1 = plt.scatter(iris.data[:,0], iris.data[:,1], alpha=1, c=iris.target, cmap='Paired')\n",
    "plt.scatter(model.means_[:,0], model.means_[:,1], marker='D', c='r')\n",
    "plt.ylabel(\"Sepal width (cm)\")\n",
    "plt.xlabel(\"Sepal length (cm)\")\n",
    "plt.title(\"Dataset of Iris flowers\")\n",
    "plt.legend(handles=p1.legend_elements()[0], labels=['Iris Setosa', 'Iris Versicolour', 'Iris Virginica'])"
   ]
  },
  {
   "cell_type": "markdown",
   "metadata": {
    "slideshow": {
     "slide_type": "slide"
    }
   },
   "source": [
    "# Applications of Unsupervised Learning\n",
    "\n",
    "Unsupervised learning also has numerous applications:\n",
    "* Recommendation systems: suggesting movies on Netflix.\n",
    "* Anomaly detection: identifying factory components that are likely to break soon.\n",
    "* Signal denoising: extracting human speech from a noisy recording."
   ]
  },
  {
   "cell_type": "markdown",
   "metadata": {
    "slideshow": {
     "slide_type": "slide"
    }
   },
   "source": [
    "# Reinforcement Learning\n",
    "\n",
    "In reinforcement learning, an agent is interacting with the world over time. We teach it good behavior by providing it with rewards.\n",
    "\n",
    "<center><img src=\"img/rl.png\"/></center>\n",
    "\n",
    "<sub><sup>Image by Lily Weng</sup></sub>"
   ]
  },
  {
   "cell_type": "markdown",
   "metadata": {
    "slideshow": {
     "slide_type": "slide"
    }
   },
   "source": [
    "# Applications of Reinforcement Learning\n",
    "\n",
    "Applications of reinforcement learning include:\n",
    "* Creating agents that play games such as Chess or Go.\n",
    "* Controling the cooling systems of datacenters to use energy more efficiently.\n",
    "* Designing new drug compounds.\n",
    "* Recently **RLHF** (Reinforment Learning with Human Feedback) to fine tune large language models/"
   ]
  },
  {
   "cell_type": "markdown",
   "metadata": {
    "slideshow": {
     "slide_type": "slide"
    }
   },
   "source": [
    "# Artificial Intelligence and Deep Learning\n",
    "\n",
    "Machine learning is closely related to these two fields.\n",
    "* AI is about building machines that exhibit intelligence.\n",
    "* ML enables machines to learn from experience, a useful tool for AI.\n",
    "* Deep learning focuses on a family of learning algorithms loosely inspired by the brain.\n",
    "<center><img width=\"50%\" src=\"img/ai_ml_dl.png\"/></center>\n",
    "\n",
    "<sub><sup>Image [source](https://towardsdatascience.com/understanding-the-difference-between-ai-ml-and-dl-cceb63252a6c).</sup></sub>"
   ]
  }
 ],
 "metadata": {
  "accelerator": "GPU",
  "celltoolbar": "Slideshow",
  "colab": {
   "collapsed_sections": [],
   "name": "neural-ode.ipynb",
   "provenance": []
  },
  "kernelspec": {
   "display_name": "gw-cs6364",
   "language": "python",
   "name": "gw-cs6364"
  },
  "language_info": {
   "codemirror_mode": {
    "name": "ipython",
    "version": 3
   },
   "file_extension": ".py",
   "mimetype": "text/x-python",
   "name": "python",
   "nbconvert_exporter": "python",
   "pygments_lexer": "ipython3",
   "version": "3.10.12"
  },
  "rise": {
   "controlsTutorial": false,
   "height": 900,
   "help": false,
   "margin": 0,
   "maxScale": 2,
   "minScale": 0.2,
   "progress": true,
   "scroll": true,
   "theme": "simple",
   "width": 1200
  }
 },
 "nbformat": 4,
 "nbformat_minor": 4
}
